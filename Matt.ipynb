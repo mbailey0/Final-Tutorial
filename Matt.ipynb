{
  "nbformat": 4,
  "nbformat_minor": 0,
  "metadata": {
    "kernelspec": {
      "display_name": "Python 3",
      "language": "python",
      "name": "python3"
    },
    "language_info": {
      "codemirror_mode": {
        "name": "ipython",
        "version": 3
      },
      "file_extension": ".py",
      "mimetype": "text/x-python",
      "name": "python",
      "nbconvert_exporter": "python",
      "pygments_lexer": "ipython3",
      "version": "3.8.6"
    },
    "colab": {
      "name": "Matt.ipynb",
      "provenance": [],
      "include_colab_link": true
    }
  },
  "cells": [
    {
      "cell_type": "markdown",
      "metadata": {
        "id": "view-in-github",
        "colab_type": "text"
      },
      "source": [
        "<a href=\"https://colab.research.google.com/github/mgfalzon/Final-Tutorial/blob/main/Matt.ipynb\" target=\"_parent\"><img src=\"https://colab.research.google.com/assets/colab-badge.svg\" alt=\"Open In Colab\"/></a>"
      ]
    },
    {
      "cell_type": "markdown",
      "metadata": {
        "id": "3NmEYplUtwvC"
      },
      "source": [
        "![title](https://github.com/mgfalzon/Final-Tutorial/blob/main/all_pokemons.png?raw=1)"
      ]
    },
    {
      "cell_type": "markdown",
      "metadata": {
        "id": "BZ5zITGStwvK"
      },
      "source": [
        "### **Predicting Pokemon Battle Outcomes Through Stats**"
      ]
    },
    {
      "cell_type": "markdown",
      "metadata": {
        "id": "VCOLoGM5twvL"
      },
      "source": [
        "Matthew Falzon, Robert Calkins, Michael Bailey"
      ]
    },
    {
      "cell_type": "markdown",
      "metadata": {
        "id": "vW3cWcSXtwvL"
      },
      "source": [
        "#### **Introduction**"
      ]
    },
    {
      "cell_type": "markdown",
      "metadata": {
        "id": "SpzowDwqtwvL"
      },
      "source": [
        "*insert Pokemon introduction*"
      ]
    },
    {
      "cell_type": "markdown",
      "metadata": {
        "id": "7u-3GeFUtwvM"
      },
      "source": [
        "#### **Python Libraries**"
      ]
    },
    {
      "cell_type": "code",
      "metadata": {
        "id": "Ad--v0cotwvM"
      },
      "source": [
        "import requests\n",
        "import json\n",
        "import numpy as np\n",
        "import pandas as pd\n",
        "import re"
      ],
      "execution_count": 2,
      "outputs": []
    },
    {
      "cell_type": "markdown",
      "metadata": {
        "id": "TrvzvWp-twvN"
      },
      "source": [
        "#### **Importing Data**"
      ]
    },
    {
      "cell_type": "code",
      "metadata": {
        "colab": {
          "base_uri": "https://localhost:8080/",
          "height": 423
        },
        "id": "QNQmIqAStwvN",
        "outputId": "dd716b1c-47e7-400e-e29b-fb0d446cf82e"
      },
      "source": [
        "path = \"https://raw.githubusercontent.com/mgfalzon/Final-Tutorial/main\"\n",
        "combats = pd.read_csv(f\"{path}/combats.csv\")\n",
        "pokemon = pd.read_csv(f\"{path}/pokemon.csv\")\n",
        "tests = pd.read_csv(f\"{path}/tests.csv\")\n",
        "display(\"Pokemon\", pokemon.head())\n",
        "display(\"Combats\", combats.head())"
      ],
      "execution_count": 62,
      "outputs": [
        {
          "output_type": "display_data",
          "data": {
            "application/vnd.google.colaboratory.intrinsic+json": {
              "type": "string"
            },
            "text/plain": [
              "'Pokemon'"
            ]
          },
          "metadata": {
            "tags": []
          }
        },
        {
          "output_type": "display_data",
          "data": {
            "text/html": [
              "<div>\n",
              "<style scoped>\n",
              "    .dataframe tbody tr th:only-of-type {\n",
              "        vertical-align: middle;\n",
              "    }\n",
              "\n",
              "    .dataframe tbody tr th {\n",
              "        vertical-align: top;\n",
              "    }\n",
              "\n",
              "    .dataframe thead th {\n",
              "        text-align: right;\n",
              "    }\n",
              "</style>\n",
              "<table border=\"1\" class=\"dataframe\">\n",
              "  <thead>\n",
              "    <tr style=\"text-align: right;\">\n",
              "      <th></th>\n",
              "      <th>#</th>\n",
              "      <th>Name</th>\n",
              "      <th>Type 1</th>\n",
              "      <th>Type 2</th>\n",
              "      <th>HP</th>\n",
              "      <th>Attack</th>\n",
              "      <th>Defense</th>\n",
              "      <th>Sp. Atk</th>\n",
              "      <th>Sp. Def</th>\n",
              "      <th>Speed</th>\n",
              "      <th>Generation</th>\n",
              "      <th>Legendary</th>\n",
              "    </tr>\n",
              "  </thead>\n",
              "  <tbody>\n",
              "    <tr>\n",
              "      <th>0</th>\n",
              "      <td>1</td>\n",
              "      <td>Bulbasaur</td>\n",
              "      <td>Grass</td>\n",
              "      <td>Poison</td>\n",
              "      <td>45</td>\n",
              "      <td>49</td>\n",
              "      <td>49</td>\n",
              "      <td>65</td>\n",
              "      <td>65</td>\n",
              "      <td>45</td>\n",
              "      <td>1</td>\n",
              "      <td>False</td>\n",
              "    </tr>\n",
              "    <tr>\n",
              "      <th>1</th>\n",
              "      <td>2</td>\n",
              "      <td>Ivysaur</td>\n",
              "      <td>Grass</td>\n",
              "      <td>Poison</td>\n",
              "      <td>60</td>\n",
              "      <td>62</td>\n",
              "      <td>63</td>\n",
              "      <td>80</td>\n",
              "      <td>80</td>\n",
              "      <td>60</td>\n",
              "      <td>1</td>\n",
              "      <td>False</td>\n",
              "    </tr>\n",
              "    <tr>\n",
              "      <th>2</th>\n",
              "      <td>3</td>\n",
              "      <td>Venusaur</td>\n",
              "      <td>Grass</td>\n",
              "      <td>Poison</td>\n",
              "      <td>80</td>\n",
              "      <td>82</td>\n",
              "      <td>83</td>\n",
              "      <td>100</td>\n",
              "      <td>100</td>\n",
              "      <td>80</td>\n",
              "      <td>1</td>\n",
              "      <td>False</td>\n",
              "    </tr>\n",
              "    <tr>\n",
              "      <th>3</th>\n",
              "      <td>4</td>\n",
              "      <td>Mega Venusaur</td>\n",
              "      <td>Grass</td>\n",
              "      <td>Poison</td>\n",
              "      <td>80</td>\n",
              "      <td>100</td>\n",
              "      <td>123</td>\n",
              "      <td>122</td>\n",
              "      <td>120</td>\n",
              "      <td>80</td>\n",
              "      <td>1</td>\n",
              "      <td>False</td>\n",
              "    </tr>\n",
              "    <tr>\n",
              "      <th>4</th>\n",
              "      <td>5</td>\n",
              "      <td>Charmander</td>\n",
              "      <td>Fire</td>\n",
              "      <td>NaN</td>\n",
              "      <td>39</td>\n",
              "      <td>52</td>\n",
              "      <td>43</td>\n",
              "      <td>60</td>\n",
              "      <td>50</td>\n",
              "      <td>65</td>\n",
              "      <td>1</td>\n",
              "      <td>False</td>\n",
              "    </tr>\n",
              "  </tbody>\n",
              "</table>\n",
              "</div>"
            ],
            "text/plain": [
              "   #           Name Type 1  Type 2  ...  Sp. Def  Speed  Generation  Legendary\n",
              "0  1      Bulbasaur  Grass  Poison  ...       65     45           1      False\n",
              "1  2        Ivysaur  Grass  Poison  ...       80     60           1      False\n",
              "2  3       Venusaur  Grass  Poison  ...      100     80           1      False\n",
              "3  4  Mega Venusaur  Grass  Poison  ...      120     80           1      False\n",
              "4  5     Charmander   Fire     NaN  ...       50     65           1      False\n",
              "\n",
              "[5 rows x 12 columns]"
            ]
          },
          "metadata": {
            "tags": []
          }
        },
        {
          "output_type": "display_data",
          "data": {
            "application/vnd.google.colaboratory.intrinsic+json": {
              "type": "string"
            },
            "text/plain": [
              "'Combats'"
            ]
          },
          "metadata": {
            "tags": []
          }
        },
        {
          "output_type": "display_data",
          "data": {
            "text/html": [
              "<div>\n",
              "<style scoped>\n",
              "    .dataframe tbody tr th:only-of-type {\n",
              "        vertical-align: middle;\n",
              "    }\n",
              "\n",
              "    .dataframe tbody tr th {\n",
              "        vertical-align: top;\n",
              "    }\n",
              "\n",
              "    .dataframe thead th {\n",
              "        text-align: right;\n",
              "    }\n",
              "</style>\n",
              "<table border=\"1\" class=\"dataframe\">\n",
              "  <thead>\n",
              "    <tr style=\"text-align: right;\">\n",
              "      <th></th>\n",
              "      <th>First_pokemon</th>\n",
              "      <th>Second_pokemon</th>\n",
              "      <th>Winner</th>\n",
              "    </tr>\n",
              "  </thead>\n",
              "  <tbody>\n",
              "    <tr>\n",
              "      <th>0</th>\n",
              "      <td>266</td>\n",
              "      <td>298</td>\n",
              "      <td>298</td>\n",
              "    </tr>\n",
              "    <tr>\n",
              "      <th>1</th>\n",
              "      <td>702</td>\n",
              "      <td>701</td>\n",
              "      <td>701</td>\n",
              "    </tr>\n",
              "    <tr>\n",
              "      <th>2</th>\n",
              "      <td>191</td>\n",
              "      <td>668</td>\n",
              "      <td>668</td>\n",
              "    </tr>\n",
              "    <tr>\n",
              "      <th>3</th>\n",
              "      <td>237</td>\n",
              "      <td>683</td>\n",
              "      <td>683</td>\n",
              "    </tr>\n",
              "    <tr>\n",
              "      <th>4</th>\n",
              "      <td>151</td>\n",
              "      <td>231</td>\n",
              "      <td>151</td>\n",
              "    </tr>\n",
              "  </tbody>\n",
              "</table>\n",
              "</div>"
            ],
            "text/plain": [
              "   First_pokemon  Second_pokemon  Winner\n",
              "0            266             298     298\n",
              "1            702             701     701\n",
              "2            191             668     668\n",
              "3            237             683     683\n",
              "4            151             231     151"
            ]
          },
          "metadata": {
            "tags": []
          }
        }
      ]
    },
    {
      "cell_type": "markdown",
      "metadata": {
        "id": "vhPs9vpptwvO"
      },
      "source": [
        "#### **Tidy Data**"
      ]
    },
    {
      "cell_type": "code",
      "metadata": {
        "colab": {
          "base_uri": "https://localhost:8080/"
        },
        "id": "lYZWQjJDtwvP",
        "outputId": "b3586d82-c303-42c9-fe11-97b234aab577"
      },
      "source": [
        "# Find missing data\n",
        "pokemon.isna().sum()"
      ],
      "execution_count": 12,
      "outputs": [
        {
          "output_type": "execute_result",
          "data": {
            "text/plain": [
              "#               0\n",
              "Name            1\n",
              "Type 1          0\n",
              "Type 2        386\n",
              "HP              0\n",
              "Attack          0\n",
              "Defense         0\n",
              "Sp. Atk         0\n",
              "Sp. Def         0\n",
              "Speed           0\n",
              "Generation      0\n",
              "Legendary       0\n",
              "dtype: int64"
            ]
          },
          "metadata": {
            "tags": []
          },
          "execution_count": 12
        }
      ]
    },
    {
      "cell_type": "markdown",
      "metadata": {
        "id": "5uV4K1St31aU"
      },
      "source": [
        "<sub>*Note: type 2 is missing because some pokemon only have one type</sub>"
      ]
    },
    {
      "cell_type": "code",
      "metadata": {
        "colab": {
          "base_uri": "https://localhost:8080/",
          "height": 79
        },
        "id": "vDya1O9ltwvP",
        "outputId": "079e41dd-0a42-4671-d8f5-5a5edb7d7759"
      },
      "source": [
        "# One pokemon is missing from the data\n",
        "missing = pokemon[pokemon['Name'].isna()]\n",
        "missing"
      ],
      "execution_count": 13,
      "outputs": [
        {
          "output_type": "execute_result",
          "data": {
            "text/html": [
              "<div>\n",
              "<style scoped>\n",
              "    .dataframe tbody tr th:only-of-type {\n",
              "        vertical-align: middle;\n",
              "    }\n",
              "\n",
              "    .dataframe tbody tr th {\n",
              "        vertical-align: top;\n",
              "    }\n",
              "\n",
              "    .dataframe thead th {\n",
              "        text-align: right;\n",
              "    }\n",
              "</style>\n",
              "<table border=\"1\" class=\"dataframe\">\n",
              "  <thead>\n",
              "    <tr style=\"text-align: right;\">\n",
              "      <th></th>\n",
              "      <th>#</th>\n",
              "      <th>Name</th>\n",
              "      <th>Type 1</th>\n",
              "      <th>Type 2</th>\n",
              "      <th>HP</th>\n",
              "      <th>Attack</th>\n",
              "      <th>Defense</th>\n",
              "      <th>Sp. Atk</th>\n",
              "      <th>Sp. Def</th>\n",
              "      <th>Speed</th>\n",
              "      <th>Generation</th>\n",
              "      <th>Legendary</th>\n",
              "    </tr>\n",
              "  </thead>\n",
              "  <tbody>\n",
              "    <tr>\n",
              "      <th>62</th>\n",
              "      <td>63</td>\n",
              "      <td>NaN</td>\n",
              "      <td>Fighting</td>\n",
              "      <td>NaN</td>\n",
              "      <td>65</td>\n",
              "      <td>105</td>\n",
              "      <td>60</td>\n",
              "      <td>60</td>\n",
              "      <td>70</td>\n",
              "      <td>95</td>\n",
              "      <td>1</td>\n",
              "      <td>False</td>\n",
              "    </tr>\n",
              "  </tbody>\n",
              "</table>\n",
              "</div>"
            ],
            "text/plain": [
              "     # Name    Type 1 Type 2  ...  Sp. Def  Speed  Generation  Legendary\n",
              "62  63  NaN  Fighting    NaN  ...       70     95           1      False\n",
              "\n",
              "[1 rows x 12 columns]"
            ]
          },
          "metadata": {
            "tags": []
          },
          "execution_count": 13
        }
      ]
    },
    {
      "cell_type": "code",
      "metadata": {
        "colab": {
          "base_uri": "https://localhost:8080/",
          "height": 233
        },
        "id": "61oCQ5QJtwvQ",
        "outputId": "e0392c01-56a4-4316-846c-745a6b983764"
      },
      "source": [
        "# Take a look at the surrounding pokemon\n",
        "miss_id = missing.index[0]\n",
        "pokemon[miss_id - 3 : miss_id + 3]"
      ],
      "execution_count": 23,
      "outputs": [
        {
          "output_type": "execute_result",
          "data": {
            "text/html": [
              "<div>\n",
              "<style scoped>\n",
              "    .dataframe tbody tr th:only-of-type {\n",
              "        vertical-align: middle;\n",
              "    }\n",
              "\n",
              "    .dataframe tbody tr th {\n",
              "        vertical-align: top;\n",
              "    }\n",
              "\n",
              "    .dataframe thead th {\n",
              "        text-align: right;\n",
              "    }\n",
              "</style>\n",
              "<table border=\"1\" class=\"dataframe\">\n",
              "  <thead>\n",
              "    <tr style=\"text-align: right;\">\n",
              "      <th></th>\n",
              "      <th>#</th>\n",
              "      <th>Name</th>\n",
              "      <th>Type 1</th>\n",
              "      <th>Type 2</th>\n",
              "      <th>HP</th>\n",
              "      <th>Attack</th>\n",
              "      <th>Defense</th>\n",
              "      <th>Sp. Atk</th>\n",
              "      <th>Sp. Def</th>\n",
              "      <th>Speed</th>\n",
              "      <th>Generation</th>\n",
              "      <th>Legendary</th>\n",
              "    </tr>\n",
              "  </thead>\n",
              "  <tbody>\n",
              "    <tr>\n",
              "      <th>59</th>\n",
              "      <td>60</td>\n",
              "      <td>Psyduck</td>\n",
              "      <td>Water</td>\n",
              "      <td>NaN</td>\n",
              "      <td>50</td>\n",
              "      <td>52</td>\n",
              "      <td>48</td>\n",
              "      <td>65</td>\n",
              "      <td>50</td>\n",
              "      <td>55</td>\n",
              "      <td>1</td>\n",
              "      <td>False</td>\n",
              "    </tr>\n",
              "    <tr>\n",
              "      <th>60</th>\n",
              "      <td>61</td>\n",
              "      <td>Golduck</td>\n",
              "      <td>Water</td>\n",
              "      <td>NaN</td>\n",
              "      <td>80</td>\n",
              "      <td>82</td>\n",
              "      <td>78</td>\n",
              "      <td>95</td>\n",
              "      <td>80</td>\n",
              "      <td>85</td>\n",
              "      <td>1</td>\n",
              "      <td>False</td>\n",
              "    </tr>\n",
              "    <tr>\n",
              "      <th>61</th>\n",
              "      <td>62</td>\n",
              "      <td>Mankey</td>\n",
              "      <td>Fighting</td>\n",
              "      <td>NaN</td>\n",
              "      <td>40</td>\n",
              "      <td>80</td>\n",
              "      <td>35</td>\n",
              "      <td>35</td>\n",
              "      <td>45</td>\n",
              "      <td>70</td>\n",
              "      <td>1</td>\n",
              "      <td>False</td>\n",
              "    </tr>\n",
              "    <tr>\n",
              "      <th>62</th>\n",
              "      <td>63</td>\n",
              "      <td>NaN</td>\n",
              "      <td>Fighting</td>\n",
              "      <td>NaN</td>\n",
              "      <td>65</td>\n",
              "      <td>105</td>\n",
              "      <td>60</td>\n",
              "      <td>60</td>\n",
              "      <td>70</td>\n",
              "      <td>95</td>\n",
              "      <td>1</td>\n",
              "      <td>False</td>\n",
              "    </tr>\n",
              "    <tr>\n",
              "      <th>63</th>\n",
              "      <td>64</td>\n",
              "      <td>Growlithe</td>\n",
              "      <td>Fire</td>\n",
              "      <td>NaN</td>\n",
              "      <td>55</td>\n",
              "      <td>70</td>\n",
              "      <td>45</td>\n",
              "      <td>70</td>\n",
              "      <td>50</td>\n",
              "      <td>60</td>\n",
              "      <td>1</td>\n",
              "      <td>False</td>\n",
              "    </tr>\n",
              "    <tr>\n",
              "      <th>64</th>\n",
              "      <td>65</td>\n",
              "      <td>Arcanine</td>\n",
              "      <td>Fire</td>\n",
              "      <td>NaN</td>\n",
              "      <td>90</td>\n",
              "      <td>110</td>\n",
              "      <td>80</td>\n",
              "      <td>100</td>\n",
              "      <td>80</td>\n",
              "      <td>95</td>\n",
              "      <td>1</td>\n",
              "      <td>False</td>\n",
              "    </tr>\n",
              "  </tbody>\n",
              "</table>\n",
              "</div>"
            ],
            "text/plain": [
              "     #       Name    Type 1 Type 2  ...  Sp. Def  Speed  Generation  Legendary\n",
              "59  60    Psyduck     Water    NaN  ...       50     55           1      False\n",
              "60  61    Golduck     Water    NaN  ...       80     85           1      False\n",
              "61  62     Mankey  Fighting    NaN  ...       45     70           1      False\n",
              "62  63        NaN  Fighting    NaN  ...       70     95           1      False\n",
              "63  64  Growlithe      Fire    NaN  ...       50     60           1      False\n",
              "64  65   Arcanine      Fire    NaN  ...       80     95           1      False\n",
              "\n",
              "[6 rows x 12 columns]"
            ]
          },
          "metadata": {
            "tags": []
          },
          "execution_count": 23
        }
      ]
    },
    {
      "cell_type": "code",
      "metadata": {
        "id": "vE34iOJftwvQ"
      },
      "source": [
        "# Use the pokeAPI in order to find the missing pokemon\n",
        "def pokeAPI(s):\n",
        "    r = requests.get(f\"https://pokeapi.co/api/v2/pokemon/{s}\")\n",
        "    return json.loads(r.content)"
      ],
      "execution_count": 25,
      "outputs": []
    },
    {
      "cell_type": "code",
      "metadata": {
        "colab": {
          "base_uri": "https://localhost:8080/",
          "height": 417
        },
        "id": "C-4XpcZQtwvR",
        "outputId": "30e30722-81bd-44c6-d003-88a25cd7e17d"
      },
      "source": [
        "# Check the pokemon after Mankey in the pokeAPI\n",
        "res = pokeAPI('mankey')\n",
        "res = pokeAPI(res['id'] + 1)\n",
        "display(res['name'], res['types'], res['stats'])"
      ],
      "execution_count": 57,
      "outputs": [
        {
          "output_type": "display_data",
          "data": {
            "application/vnd.google.colaboratory.intrinsic+json": {
              "type": "string"
            },
            "text/plain": [
              "'primeape'"
            ]
          },
          "metadata": {
            "tags": []
          }
        },
        {
          "output_type": "display_data",
          "data": {
            "text/plain": [
              "[{'slot': 1,\n",
              "  'type': {'name': 'fighting', 'url': 'https://pokeapi.co/api/v2/type/2/'}}]"
            ]
          },
          "metadata": {
            "tags": []
          }
        },
        {
          "output_type": "display_data",
          "data": {
            "text/plain": [
              "[{'base_stat': 65,\n",
              "  'effort': 0,\n",
              "  'stat': {'name': 'hp', 'url': 'https://pokeapi.co/api/v2/stat/1/'}},\n",
              " {'base_stat': 105,\n",
              "  'effort': 2,\n",
              "  'stat': {'name': 'attack', 'url': 'https://pokeapi.co/api/v2/stat/2/'}},\n",
              " {'base_stat': 60,\n",
              "  'effort': 0,\n",
              "  'stat': {'name': 'defense', 'url': 'https://pokeapi.co/api/v2/stat/3/'}},\n",
              " {'base_stat': 60,\n",
              "  'effort': 0,\n",
              "  'stat': {'name': 'special-attack',\n",
              "   'url': 'https://pokeapi.co/api/v2/stat/4/'}},\n",
              " {'base_stat': 70,\n",
              "  'effort': 0,\n",
              "  'stat': {'name': 'special-defense',\n",
              "   'url': 'https://pokeapi.co/api/v2/stat/5/'}},\n",
              " {'base_stat': 95,\n",
              "  'effort': 0,\n",
              "  'stat': {'name': 'speed', 'url': 'https://pokeapi.co/api/v2/stat/6/'}}]"
            ]
          },
          "metadata": {
            "tags": []
          }
        }
      ]
    },
    {
      "cell_type": "code",
      "metadata": {
        "id": "GTAb2Qw1xirC",
        "outputId": "e74da9c4-d0ef-4a9b-9d36-62a24a4130b3",
        "colab": {
          "base_uri": "https://localhost:8080/",
          "height": 177
        }
      },
      "source": [
        "# Clean stats for readability\r\n",
        "data = {stat['stat']['name'] : stat['base_stat'] for stat in res['stats']}\r\n",
        "data['type'] = res['types'][0]['type']['name']\r\n",
        "df = pd.DataFrame(data, [res['name']])\r\n",
        "display(\"pokeAPI Data\", df)\r\n",
        "display(\"Our Data\", missing.iloc[:,1:10])"
      ],
      "execution_count": 63,
      "outputs": [
        {
          "output_type": "display_data",
          "data": {
            "application/vnd.google.colaboratory.intrinsic+json": {
              "type": "string"
            },
            "text/plain": [
              "'pokeAPI Data'"
            ]
          },
          "metadata": {
            "tags": []
          }
        },
        {
          "output_type": "display_data",
          "data": {
            "text/html": [
              "<div>\n",
              "<style scoped>\n",
              "    .dataframe tbody tr th:only-of-type {\n",
              "        vertical-align: middle;\n",
              "    }\n",
              "\n",
              "    .dataframe tbody tr th {\n",
              "        vertical-align: top;\n",
              "    }\n",
              "\n",
              "    .dataframe thead th {\n",
              "        text-align: right;\n",
              "    }\n",
              "</style>\n",
              "<table border=\"1\" class=\"dataframe\">\n",
              "  <thead>\n",
              "    <tr style=\"text-align: right;\">\n",
              "      <th></th>\n",
              "      <th>hp</th>\n",
              "      <th>attack</th>\n",
              "      <th>defense</th>\n",
              "      <th>special-attack</th>\n",
              "      <th>special-defense</th>\n",
              "      <th>speed</th>\n",
              "      <th>type</th>\n",
              "    </tr>\n",
              "  </thead>\n",
              "  <tbody>\n",
              "    <tr>\n",
              "      <th>primeape</th>\n",
              "      <td>65</td>\n",
              "      <td>105</td>\n",
              "      <td>60</td>\n",
              "      <td>60</td>\n",
              "      <td>70</td>\n",
              "      <td>95</td>\n",
              "      <td>fighting</td>\n",
              "    </tr>\n",
              "  </tbody>\n",
              "</table>\n",
              "</div>"
            ],
            "text/plain": [
              "          hp  attack  defense  special-attack  special-defense  speed      type\n",
              "primeape  65     105       60              60               70     95  fighting"
            ]
          },
          "metadata": {
            "tags": []
          }
        },
        {
          "output_type": "display_data",
          "data": {
            "application/vnd.google.colaboratory.intrinsic+json": {
              "type": "string"
            },
            "text/plain": [
              "'Our Data'"
            ]
          },
          "metadata": {
            "tags": []
          }
        },
        {
          "output_type": "display_data",
          "data": {
            "text/html": [
              "<div>\n",
              "<style scoped>\n",
              "    .dataframe tbody tr th:only-of-type {\n",
              "        vertical-align: middle;\n",
              "    }\n",
              "\n",
              "    .dataframe tbody tr th {\n",
              "        vertical-align: top;\n",
              "    }\n",
              "\n",
              "    .dataframe thead th {\n",
              "        text-align: right;\n",
              "    }\n",
              "</style>\n",
              "<table border=\"1\" class=\"dataframe\">\n",
              "  <thead>\n",
              "    <tr style=\"text-align: right;\">\n",
              "      <th></th>\n",
              "      <th>Name</th>\n",
              "      <th>Type 1</th>\n",
              "      <th>Type 2</th>\n",
              "      <th>HP</th>\n",
              "      <th>Attack</th>\n",
              "      <th>Defense</th>\n",
              "      <th>Sp. Atk</th>\n",
              "      <th>Sp. Def</th>\n",
              "      <th>Speed</th>\n",
              "    </tr>\n",
              "  </thead>\n",
              "  <tbody>\n",
              "    <tr>\n",
              "      <th>62</th>\n",
              "      <td>NaN</td>\n",
              "      <td>Fighting</td>\n",
              "      <td>NaN</td>\n",
              "      <td>65</td>\n",
              "      <td>105</td>\n",
              "      <td>60</td>\n",
              "      <td>60</td>\n",
              "      <td>70</td>\n",
              "      <td>95</td>\n",
              "    </tr>\n",
              "  </tbody>\n",
              "</table>\n",
              "</div>"
            ],
            "text/plain": [
              "   Name    Type 1 Type 2  HP  Attack  Defense  Sp. Atk  Sp. Def  Speed\n",
              "62  NaN  Fighting    NaN  65     105       60       60       70     95"
            ]
          },
          "metadata": {
            "tags": []
          }
        }
      ]
    },
    {
      "cell_type": "markdown",
      "metadata": {
        "id": "w0EM37T5x8Iu"
      },
      "source": [
        "It's a match!"
      ]
    },
    {
      "cell_type": "code",
      "metadata": {
        "id": "rulhrlhRtwvR",
        "outputId": "7f3c07af-5b23-4867-ac08-135c4dc5d949"
      },
      "source": [
        "# Update the data\n",
        "pokemon['Name'] = np.where(pokemon['Name'].isna(), 'Primeape', pokemon['Name'])\n",
        "pokemon[miss_id - 3 : miss_id + 3]"
      ],
      "execution_count": null,
      "outputs": [
        {
          "output_type": "execute_result",
          "data": {
            "text/html": [
              "<div>\n",
              "<style scoped>\n",
              "    .dataframe tbody tr th:only-of-type {\n",
              "        vertical-align: middle;\n",
              "    }\n",
              "\n",
              "    .dataframe tbody tr th {\n",
              "        vertical-align: top;\n",
              "    }\n",
              "\n",
              "    .dataframe thead th {\n",
              "        text-align: right;\n",
              "    }\n",
              "</style>\n",
              "<table border=\"1\" class=\"dataframe\">\n",
              "  <thead>\n",
              "    <tr style=\"text-align: right;\">\n",
              "      <th></th>\n",
              "      <th>#</th>\n",
              "      <th>Name</th>\n",
              "      <th>Type 1</th>\n",
              "      <th>Type 2</th>\n",
              "      <th>HP</th>\n",
              "      <th>Attack</th>\n",
              "      <th>Defense</th>\n",
              "      <th>Sp. Atk</th>\n",
              "      <th>Sp. Def</th>\n",
              "      <th>Speed</th>\n",
              "      <th>Generation</th>\n",
              "      <th>Legendary</th>\n",
              "    </tr>\n",
              "  </thead>\n",
              "  <tbody>\n",
              "    <tr>\n",
              "      <th>59</th>\n",
              "      <td>60</td>\n",
              "      <td>Psyduck</td>\n",
              "      <td>Water</td>\n",
              "      <td>NaN</td>\n",
              "      <td>50</td>\n",
              "      <td>52</td>\n",
              "      <td>48</td>\n",
              "      <td>65</td>\n",
              "      <td>50</td>\n",
              "      <td>55</td>\n",
              "      <td>1</td>\n",
              "      <td>False</td>\n",
              "    </tr>\n",
              "    <tr>\n",
              "      <th>60</th>\n",
              "      <td>61</td>\n",
              "      <td>Golduck</td>\n",
              "      <td>Water</td>\n",
              "      <td>NaN</td>\n",
              "      <td>80</td>\n",
              "      <td>82</td>\n",
              "      <td>78</td>\n",
              "      <td>95</td>\n",
              "      <td>80</td>\n",
              "      <td>85</td>\n",
              "      <td>1</td>\n",
              "      <td>False</td>\n",
              "    </tr>\n",
              "    <tr>\n",
              "      <th>61</th>\n",
              "      <td>62</td>\n",
              "      <td>Mankey</td>\n",
              "      <td>Fighting</td>\n",
              "      <td>NaN</td>\n",
              "      <td>40</td>\n",
              "      <td>80</td>\n",
              "      <td>35</td>\n",
              "      <td>35</td>\n",
              "      <td>45</td>\n",
              "      <td>70</td>\n",
              "      <td>1</td>\n",
              "      <td>False</td>\n",
              "    </tr>\n",
              "    <tr>\n",
              "      <th>62</th>\n",
              "      <td>63</td>\n",
              "      <td>Primeape</td>\n",
              "      <td>Fighting</td>\n",
              "      <td>NaN</td>\n",
              "      <td>65</td>\n",
              "      <td>105</td>\n",
              "      <td>60</td>\n",
              "      <td>60</td>\n",
              "      <td>70</td>\n",
              "      <td>95</td>\n",
              "      <td>1</td>\n",
              "      <td>False</td>\n",
              "    </tr>\n",
              "    <tr>\n",
              "      <th>63</th>\n",
              "      <td>64</td>\n",
              "      <td>Growlithe</td>\n",
              "      <td>Fire</td>\n",
              "      <td>NaN</td>\n",
              "      <td>55</td>\n",
              "      <td>70</td>\n",
              "      <td>45</td>\n",
              "      <td>70</td>\n",
              "      <td>50</td>\n",
              "      <td>60</td>\n",
              "      <td>1</td>\n",
              "      <td>False</td>\n",
              "    </tr>\n",
              "    <tr>\n",
              "      <th>64</th>\n",
              "      <td>65</td>\n",
              "      <td>Arcanine</td>\n",
              "      <td>Fire</td>\n",
              "      <td>NaN</td>\n",
              "      <td>90</td>\n",
              "      <td>110</td>\n",
              "      <td>80</td>\n",
              "      <td>100</td>\n",
              "      <td>80</td>\n",
              "      <td>95</td>\n",
              "      <td>1</td>\n",
              "      <td>False</td>\n",
              "    </tr>\n",
              "  </tbody>\n",
              "</table>\n",
              "</div>"
            ],
            "text/plain": [
              "     #       Name    Type 1 Type 2  HP  Attack  Defense  Sp. Atk  Sp. Def  \\\n",
              "59  60    Psyduck     Water    NaN  50      52       48       65       50   \n",
              "60  61    Golduck     Water    NaN  80      82       78       95       80   \n",
              "61  62     Mankey  Fighting    NaN  40      80       35       35       45   \n",
              "62  63   Primeape  Fighting    NaN  65     105       60       60       70   \n",
              "63  64  Growlithe      Fire    NaN  55      70       45       70       50   \n",
              "64  65   Arcanine      Fire    NaN  90     110       80      100       80   \n",
              "\n",
              "    Speed  Generation  Legendary  \n",
              "59     55           1      False  \n",
              "60     85           1      False  \n",
              "61     70           1      False  \n",
              "62     95           1      False  \n",
              "63     60           1      False  \n",
              "64     95           1      False  "
            ]
          },
          "metadata": {
            "tags": []
          },
          "execution_count": 349
        }
      ]
    },
    {
      "cell_type": "markdown",
      "metadata": {
        "id": "n9Sc4e4MtwvS"
      },
      "source": [
        "#### **Data Exploration**"
      ]
    },
    {
      "cell_type": "code",
      "metadata": {
        "id": "_9LMn3VstwvS",
        "outputId": "1c452da1-8e2d-4529-eccc-1a95bce2f5bd"
      },
      "source": [
        "# Insert Loser column\n",
        "combats['Loser'] = pd.Series(np.where(combats['Winner'] == combats['First_pokemon'], combats['Second_pokemon'], combats['First_pokemon']))\n",
        "combats.head(3)"
      ],
      "execution_count": null,
      "outputs": [
        {
          "output_type": "execute_result",
          "data": {
            "text/html": [
              "<div>\n",
              "<style scoped>\n",
              "    .dataframe tbody tr th:only-of-type {\n",
              "        vertical-align: middle;\n",
              "    }\n",
              "\n",
              "    .dataframe tbody tr th {\n",
              "        vertical-align: top;\n",
              "    }\n",
              "\n",
              "    .dataframe thead th {\n",
              "        text-align: right;\n",
              "    }\n",
              "</style>\n",
              "<table border=\"1\" class=\"dataframe\">\n",
              "  <thead>\n",
              "    <tr style=\"text-align: right;\">\n",
              "      <th></th>\n",
              "      <th>First_pokemon</th>\n",
              "      <th>Second_pokemon</th>\n",
              "      <th>Winner</th>\n",
              "      <th>Loser</th>\n",
              "    </tr>\n",
              "  </thead>\n",
              "  <tbody>\n",
              "    <tr>\n",
              "      <th>0</th>\n",
              "      <td>266</td>\n",
              "      <td>298</td>\n",
              "      <td>298</td>\n",
              "      <td>266</td>\n",
              "    </tr>\n",
              "    <tr>\n",
              "      <th>1</th>\n",
              "      <td>702</td>\n",
              "      <td>701</td>\n",
              "      <td>701</td>\n",
              "      <td>702</td>\n",
              "    </tr>\n",
              "    <tr>\n",
              "      <th>2</th>\n",
              "      <td>191</td>\n",
              "      <td>668</td>\n",
              "      <td>668</td>\n",
              "      <td>191</td>\n",
              "    </tr>\n",
              "  </tbody>\n",
              "</table>\n",
              "</div>"
            ],
            "text/plain": [
              "   First_pokemon  Second_pokemon  Winner  Loser\n",
              "0            266             298     298    266\n",
              "1            702             701     701    702\n",
              "2            191             668     668    191"
            ]
          },
          "metadata": {
            "tags": []
          },
          "execution_count": 350
        }
      ]
    },
    {
      "cell_type": "code",
      "metadata": {
        "id": "AHQaXpSWtwvT",
        "outputId": "39c1ce9e-1ae9-4764-e37e-f47127bab890"
      },
      "source": [
        "# Generate win-loss percentages\n",
        "wins = combats['Winner'].value_counts().sort_index().rename('Wins')\n",
        "loss = combats['Loser'].value_counts().sort_index().rename('Loss')\n",
        "res = pd.concat([wins, loss], axis=1)\n",
        "res['win_loss'] = res['Wins'] / (res['Wins'] + res['Loss'])\n",
        "res['win_pct']  = (res['win_loss'] * 100).round(1)\n",
        "res.head()"
      ],
      "execution_count": null,
      "outputs": [
        {
          "output_type": "execute_result",
          "data": {
            "text/html": [
              "<div>\n",
              "<style scoped>\n",
              "    .dataframe tbody tr th:only-of-type {\n",
              "        vertical-align: middle;\n",
              "    }\n",
              "\n",
              "    .dataframe tbody tr th {\n",
              "        vertical-align: top;\n",
              "    }\n",
              "\n",
              "    .dataframe thead th {\n",
              "        text-align: right;\n",
              "    }\n",
              "</style>\n",
              "<table border=\"1\" class=\"dataframe\">\n",
              "  <thead>\n",
              "    <tr style=\"text-align: right;\">\n",
              "      <th></th>\n",
              "      <th>Wins</th>\n",
              "      <th>Loss</th>\n",
              "      <th>win_loss</th>\n",
              "      <th>win_pct</th>\n",
              "    </tr>\n",
              "  </thead>\n",
              "  <tbody>\n",
              "    <tr>\n",
              "      <th>1</th>\n",
              "      <td>37.0</td>\n",
              "      <td>96</td>\n",
              "      <td>0.278195</td>\n",
              "      <td>27.8</td>\n",
              "    </tr>\n",
              "    <tr>\n",
              "      <th>2</th>\n",
              "      <td>46.0</td>\n",
              "      <td>75</td>\n",
              "      <td>0.380165</td>\n",
              "      <td>38.0</td>\n",
              "    </tr>\n",
              "    <tr>\n",
              "      <th>3</th>\n",
              "      <td>89.0</td>\n",
              "      <td>43</td>\n",
              "      <td>0.674242</td>\n",
              "      <td>67.4</td>\n",
              "    </tr>\n",
              "    <tr>\n",
              "      <th>4</th>\n",
              "      <td>70.0</td>\n",
              "      <td>55</td>\n",
              "      <td>0.560000</td>\n",
              "      <td>56.0</td>\n",
              "    </tr>\n",
              "    <tr>\n",
              "      <th>5</th>\n",
              "      <td>55.0</td>\n",
              "      <td>57</td>\n",
              "      <td>0.491071</td>\n",
              "      <td>49.1</td>\n",
              "    </tr>\n",
              "  </tbody>\n",
              "</table>\n",
              "</div>"
            ],
            "text/plain": [
              "   Wins  Loss  win_loss  win_pct\n",
              "1  37.0    96  0.278195     27.8\n",
              "2  46.0    75  0.380165     38.0\n",
              "3  89.0    43  0.674242     67.4\n",
              "4  70.0    55  0.560000     56.0\n",
              "5  55.0    57  0.491071     49.1"
            ]
          },
          "metadata": {
            "tags": []
          },
          "execution_count": 351
        }
      ]
    },
    {
      "cell_type": "code",
      "metadata": {
        "id": "T0qVIQAptwvU"
      },
      "source": [
        "# Join with pokemon table\n",
        "pokemon = pokemon.join(res, on='#')"
      ],
      "execution_count": null,
      "outputs": []
    },
    {
      "cell_type": "code",
      "metadata": {
        "id": "dcm4u5BftwvU",
        "outputId": "420e25d2-dae8-4e22-9007-016aa7169422"
      },
      "source": [
        "# Top 50 Pokemon by win percentage\n",
        "top50 = pokemon.sort_values(by='win_pct', ascending=False).head(50)\n",
        "top50[['Name', 'win_pct']].head()"
      ],
      "execution_count": null,
      "outputs": [
        {
          "output_type": "execute_result",
          "data": {
            "text/html": [
              "<div>\n",
              "<style scoped>\n",
              "    .dataframe tbody tr th:only-of-type {\n",
              "        vertical-align: middle;\n",
              "    }\n",
              "\n",
              "    .dataframe tbody tr th {\n",
              "        vertical-align: top;\n",
              "    }\n",
              "\n",
              "    .dataframe thead th {\n",
              "        text-align: right;\n",
              "    }\n",
              "</style>\n",
              "<table border=\"1\" class=\"dataframe\">\n",
              "  <thead>\n",
              "    <tr style=\"text-align: right;\">\n",
              "      <th></th>\n",
              "      <th>Name</th>\n",
              "      <th>win_pct</th>\n",
              "    </tr>\n",
              "  </thead>\n",
              "  <tbody>\n",
              "    <tr>\n",
              "      <th>154</th>\n",
              "      <td>Mega Aerodactyl</td>\n",
              "      <td>98.4</td>\n",
              "    </tr>\n",
              "    <tr>\n",
              "      <th>512</th>\n",
              "      <td>Weavile</td>\n",
              "      <td>97.5</td>\n",
              "    </tr>\n",
              "    <tr>\n",
              "      <th>703</th>\n",
              "      <td>Tornadus Therian Forme</td>\n",
              "      <td>96.8</td>\n",
              "    </tr>\n",
              "    <tr>\n",
              "      <th>19</th>\n",
              "      <td>Mega Beedrill</td>\n",
              "      <td>96.6</td>\n",
              "    </tr>\n",
              "    <tr>\n",
              "      <th>153</th>\n",
              "      <td>Aerodactyl</td>\n",
              "      <td>96.5</td>\n",
              "    </tr>\n",
              "  </tbody>\n",
              "</table>\n",
              "</div>"
            ],
            "text/plain": [
              "                       Name  win_pct\n",
              "154         Mega Aerodactyl     98.4\n",
              "512                 Weavile     97.5\n",
              "703  Tornadus Therian Forme     96.8\n",
              "19            Mega Beedrill     96.6\n",
              "153              Aerodactyl     96.5"
            ]
          },
          "metadata": {
            "tags": []
          },
          "execution_count": 353
        }
      ]
    },
    {
      "cell_type": "code",
      "metadata": {
        "id": "G3bdtk93twvU",
        "outputId": "01bb37f0-1ae7-4b47-8c1a-66cc88852693"
      },
      "source": [
        "# Bottom 50 Pokemon by win percentage\n",
        "bot50 = pokemon.sort_values(by='win_pct', ascending=True).head(50)\n",
        "bot50[['Name', 'win_pct']].head()"
      ],
      "execution_count": null,
      "outputs": [
        {
          "output_type": "execute_result",
          "data": {
            "text/html": [
              "<div>\n",
              "<style scoped>\n",
              "    .dataframe tbody tr th:only-of-type {\n",
              "        vertical-align: middle;\n",
              "    }\n",
              "\n",
              "    .dataframe tbody tr th {\n",
              "        vertical-align: top;\n",
              "    }\n",
              "\n",
              "    .dataframe thead th {\n",
              "        text-align: right;\n",
              "    }\n",
              "</style>\n",
              "<table border=\"1\" class=\"dataframe\">\n",
              "  <thead>\n",
              "    <tr style=\"text-align: right;\">\n",
              "      <th></th>\n",
              "      <th>Name</th>\n",
              "      <th>win_pct</th>\n",
              "    </tr>\n",
              "  </thead>\n",
              "  <tbody>\n",
              "    <tr>\n",
              "      <th>289</th>\n",
              "      <td>Silcoon</td>\n",
              "      <td>2.2</td>\n",
              "    </tr>\n",
              "    <tr>\n",
              "      <th>189</th>\n",
              "      <td>Togepi</td>\n",
              "      <td>2.5</td>\n",
              "    </tr>\n",
              "    <tr>\n",
              "      <th>638</th>\n",
              "      <td>Solosis</td>\n",
              "      <td>3.1</td>\n",
              "    </tr>\n",
              "    <tr>\n",
              "      <th>236</th>\n",
              "      <td>Slugma</td>\n",
              "      <td>3.3</td>\n",
              "    </tr>\n",
              "    <tr>\n",
              "      <th>576</th>\n",
              "      <td>Munna</td>\n",
              "      <td>3.9</td>\n",
              "    </tr>\n",
              "  </tbody>\n",
              "</table>\n",
              "</div>"
            ],
            "text/plain": [
              "        Name  win_pct\n",
              "289  Silcoon      2.2\n",
              "189   Togepi      2.5\n",
              "638  Solosis      3.1\n",
              "236   Slugma      3.3\n",
              "576    Munna      3.9"
            ]
          },
          "metadata": {
            "tags": []
          },
          "execution_count": 354
        }
      ]
    },
    {
      "cell_type": "code",
      "metadata": {
        "id": "AyOFA-vmtwvV",
        "outputId": "df2052f3-2905-4c01-8177-faaf66d3231d"
      },
      "source": [
        "# Remove Mega Pokemon\n",
        "pokemon = pokemon[pokemon['Name'].str.match(r'Mega .*') == False]\n",
        "\n",
        "# Recalculate top and bottom 50\n",
        "top50 = pokemon.sort_values(by='win_pct', ascending=False).head(50)\n",
        "bot50 = pokemon.sort_values(by='win_pct', ascending=True).head(50)\n",
        "\n",
        "pokemon.head()"
      ],
      "execution_count": null,
      "outputs": [
        {
          "output_type": "execute_result",
          "data": {
            "text/html": [
              "<div>\n",
              "<style scoped>\n",
              "    .dataframe tbody tr th:only-of-type {\n",
              "        vertical-align: middle;\n",
              "    }\n",
              "\n",
              "    .dataframe tbody tr th {\n",
              "        vertical-align: top;\n",
              "    }\n",
              "\n",
              "    .dataframe thead th {\n",
              "        text-align: right;\n",
              "    }\n",
              "</style>\n",
              "<table border=\"1\" class=\"dataframe\">\n",
              "  <thead>\n",
              "    <tr style=\"text-align: right;\">\n",
              "      <th></th>\n",
              "      <th>#</th>\n",
              "      <th>Name</th>\n",
              "      <th>Type 1</th>\n",
              "      <th>Type 2</th>\n",
              "      <th>HP</th>\n",
              "      <th>Attack</th>\n",
              "      <th>Defense</th>\n",
              "      <th>Sp. Atk</th>\n",
              "      <th>Sp. Def</th>\n",
              "      <th>Speed</th>\n",
              "      <th>Generation</th>\n",
              "      <th>Legendary</th>\n",
              "      <th>Wins</th>\n",
              "      <th>Loss</th>\n",
              "      <th>win_loss</th>\n",
              "      <th>win_pct</th>\n",
              "    </tr>\n",
              "  </thead>\n",
              "  <tbody>\n",
              "    <tr>\n",
              "      <th>0</th>\n",
              "      <td>1</td>\n",
              "      <td>Bulbasaur</td>\n",
              "      <td>Grass</td>\n",
              "      <td>Poison</td>\n",
              "      <td>45</td>\n",
              "      <td>49</td>\n",
              "      <td>49</td>\n",
              "      <td>65</td>\n",
              "      <td>65</td>\n",
              "      <td>45</td>\n",
              "      <td>1</td>\n",
              "      <td>False</td>\n",
              "      <td>37.0</td>\n",
              "      <td>96.0</td>\n",
              "      <td>0.278195</td>\n",
              "      <td>27.8</td>\n",
              "    </tr>\n",
              "    <tr>\n",
              "      <th>1</th>\n",
              "      <td>2</td>\n",
              "      <td>Ivysaur</td>\n",
              "      <td>Grass</td>\n",
              "      <td>Poison</td>\n",
              "      <td>60</td>\n",
              "      <td>62</td>\n",
              "      <td>63</td>\n",
              "      <td>80</td>\n",
              "      <td>80</td>\n",
              "      <td>60</td>\n",
              "      <td>1</td>\n",
              "      <td>False</td>\n",
              "      <td>46.0</td>\n",
              "      <td>75.0</td>\n",
              "      <td>0.380165</td>\n",
              "      <td>38.0</td>\n",
              "    </tr>\n",
              "    <tr>\n",
              "      <th>2</th>\n",
              "      <td>3</td>\n",
              "      <td>Venusaur</td>\n",
              "      <td>Grass</td>\n",
              "      <td>Poison</td>\n",
              "      <td>80</td>\n",
              "      <td>82</td>\n",
              "      <td>83</td>\n",
              "      <td>100</td>\n",
              "      <td>100</td>\n",
              "      <td>80</td>\n",
              "      <td>1</td>\n",
              "      <td>False</td>\n",
              "      <td>89.0</td>\n",
              "      <td>43.0</td>\n",
              "      <td>0.674242</td>\n",
              "      <td>67.4</td>\n",
              "    </tr>\n",
              "    <tr>\n",
              "      <th>4</th>\n",
              "      <td>5</td>\n",
              "      <td>Charmander</td>\n",
              "      <td>Fire</td>\n",
              "      <td>NaN</td>\n",
              "      <td>39</td>\n",
              "      <td>52</td>\n",
              "      <td>43</td>\n",
              "      <td>60</td>\n",
              "      <td>50</td>\n",
              "      <td>65</td>\n",
              "      <td>1</td>\n",
              "      <td>False</td>\n",
              "      <td>55.0</td>\n",
              "      <td>57.0</td>\n",
              "      <td>0.491071</td>\n",
              "      <td>49.1</td>\n",
              "    </tr>\n",
              "    <tr>\n",
              "      <th>5</th>\n",
              "      <td>6</td>\n",
              "      <td>Charmeleon</td>\n",
              "      <td>Fire</td>\n",
              "      <td>NaN</td>\n",
              "      <td>58</td>\n",
              "      <td>64</td>\n",
              "      <td>58</td>\n",
              "      <td>80</td>\n",
              "      <td>65</td>\n",
              "      <td>80</td>\n",
              "      <td>1</td>\n",
              "      <td>False</td>\n",
              "      <td>64.0</td>\n",
              "      <td>54.0</td>\n",
              "      <td>0.542373</td>\n",
              "      <td>54.2</td>\n",
              "    </tr>\n",
              "  </tbody>\n",
              "</table>\n",
              "</div>"
            ],
            "text/plain": [
              "   #        Name Type 1  Type 2  HP  Attack  Defense  Sp. Atk  Sp. Def  Speed  \\\n",
              "0  1   Bulbasaur  Grass  Poison  45      49       49       65       65     45   \n",
              "1  2     Ivysaur  Grass  Poison  60      62       63       80       80     60   \n",
              "2  3    Venusaur  Grass  Poison  80      82       83      100      100     80   \n",
              "4  5  Charmander   Fire     NaN  39      52       43       60       50     65   \n",
              "5  6  Charmeleon   Fire     NaN  58      64       58       80       65     80   \n",
              "\n",
              "   Generation  Legendary  Wins  Loss  win_loss  win_pct  \n",
              "0           1      False  37.0  96.0  0.278195     27.8  \n",
              "1           1      False  46.0  75.0  0.380165     38.0  \n",
              "2           1      False  89.0  43.0  0.674242     67.4  \n",
              "4           1      False  55.0  57.0  0.491071     49.1  \n",
              "5           1      False  64.0  54.0  0.542373     54.2  "
            ]
          },
          "metadata": {
            "tags": []
          },
          "execution_count": 355
        }
      ]
    },
    {
      "cell_type": "code",
      "metadata": {
        "id": "uRqTKvGjtwvV",
        "outputId": "3fae4167-ba4d-4b4a-a3e5-23a1777fa2d9"
      },
      "source": [
        "# Non-Mega pokemon with most wins\n",
        "top50[['Name', 'win_pct']].head()"
      ],
      "execution_count": null,
      "outputs": [
        {
          "output_type": "execute_result",
          "data": {
            "text/html": [
              "<div>\n",
              "<style scoped>\n",
              "    .dataframe tbody tr th:only-of-type {\n",
              "        vertical-align: middle;\n",
              "    }\n",
              "\n",
              "    .dataframe tbody tr th {\n",
              "        vertical-align: top;\n",
              "    }\n",
              "\n",
              "    .dataframe thead th {\n",
              "        text-align: right;\n",
              "    }\n",
              "</style>\n",
              "<table border=\"1\" class=\"dataframe\">\n",
              "  <thead>\n",
              "    <tr style=\"text-align: right;\">\n",
              "      <th></th>\n",
              "      <th>Name</th>\n",
              "      <th>win_pct</th>\n",
              "    </tr>\n",
              "  </thead>\n",
              "  <tbody>\n",
              "    <tr>\n",
              "      <th>512</th>\n",
              "      <td>Weavile</td>\n",
              "      <td>97.5</td>\n",
              "    </tr>\n",
              "    <tr>\n",
              "      <th>703</th>\n",
              "      <td>Tornadus Therian Forme</td>\n",
              "      <td>96.8</td>\n",
              "    </tr>\n",
              "    <tr>\n",
              "      <th>153</th>\n",
              "      <td>Aerodactyl</td>\n",
              "      <td>96.5</td>\n",
              "    </tr>\n",
              "    <tr>\n",
              "      <th>726</th>\n",
              "      <td>Greninja</td>\n",
              "      <td>96.1</td>\n",
              "    </tr>\n",
              "    <tr>\n",
              "      <th>716</th>\n",
              "      <td>Meloetta Pirouette Forme</td>\n",
              "      <td>95.9</td>\n",
              "    </tr>\n",
              "  </tbody>\n",
              "</table>\n",
              "</div>"
            ],
            "text/plain": [
              "                         Name  win_pct\n",
              "512                   Weavile     97.5\n",
              "703    Tornadus Therian Forme     96.8\n",
              "153                Aerodactyl     96.5\n",
              "726                  Greninja     96.1\n",
              "716  Meloetta Pirouette Forme     95.9"
            ]
          },
          "metadata": {
            "tags": []
          },
          "execution_count": 356
        }
      ]
    },
    {
      "cell_type": "code",
      "metadata": {
        "colab": {
          "base_uri": "https://localhost:8080/",
          "height": 233
        },
        "id": "JmvA1QxxtwvV",
        "outputId": "b8749047-1748-4a81-9591-dc52cee01071"
      },
      "source": [
        "# Type frequency\n",
        "type_freq = pokemon.groupby(by=['Type 1', 'Type 2'], dropna=False)['Name'].count().rename('freq')\n",
        "type_freq = type_freq.sort_values(ascending=False)\n",
        "pd.DataFrame(type_freq).head()"
      ],
      "execution_count": 78,
      "outputs": [
        {
          "output_type": "execute_result",
          "data": {
            "text/html": [
              "<div>\n",
              "<style scoped>\n",
              "    .dataframe tbody tr th:only-of-type {\n",
              "        vertical-align: middle;\n",
              "    }\n",
              "\n",
              "    .dataframe tbody tr th {\n",
              "        vertical-align: top;\n",
              "    }\n",
              "\n",
              "    .dataframe thead th {\n",
              "        text-align: right;\n",
              "    }\n",
              "</style>\n",
              "<table border=\"1\" class=\"dataframe\">\n",
              "  <thead>\n",
              "    <tr style=\"text-align: right;\">\n",
              "      <th></th>\n",
              "      <th></th>\n",
              "      <th>freq</th>\n",
              "    </tr>\n",
              "    <tr>\n",
              "      <th>Type 1</th>\n",
              "      <th>Type 2</th>\n",
              "      <th></th>\n",
              "    </tr>\n",
              "  </thead>\n",
              "  <tbody>\n",
              "    <tr>\n",
              "      <th>Normal</th>\n",
              "      <th>NaN</th>\n",
              "      <td>61</td>\n",
              "    </tr>\n",
              "    <tr>\n",
              "      <th>Water</th>\n",
              "      <th>NaN</th>\n",
              "      <td>59</td>\n",
              "    </tr>\n",
              "    <tr>\n",
              "      <th>Psychic</th>\n",
              "      <th>NaN</th>\n",
              "      <td>38</td>\n",
              "    </tr>\n",
              "    <tr>\n",
              "      <th>Grass</th>\n",
              "      <th>NaN</th>\n",
              "      <td>33</td>\n",
              "    </tr>\n",
              "    <tr>\n",
              "      <th>Fire</th>\n",
              "      <th>NaN</th>\n",
              "      <td>28</td>\n",
              "    </tr>\n",
              "  </tbody>\n",
              "</table>\n",
              "</div>"
            ],
            "text/plain": [
              "                freq\n",
              "Type 1  Type 2      \n",
              "Normal  NaN       61\n",
              "Water   NaN       59\n",
              "Psychic NaN       38\n",
              "Grass   NaN       33\n",
              "Fire    NaN       28"
            ]
          },
          "metadata": {
            "tags": []
          },
          "execution_count": 78
        }
      ]
    },
    {
      "cell_type": "code",
      "metadata": {
        "id": "EtfnMzn35NN5",
        "outputId": "57c69e8e-4f7b-4e69-b2b4-9b9cba7fab22",
        "colab": {
          "base_uri": "https://localhost:8080/",
          "height": 281
        }
      },
      "source": [
        "# Graph type frequency\r\n",
        "ax = type_freq.head(15).plot.barh()\r\n",
        "ax.set_title(\"Type Frequency\")\r\n",
        "yticks = [t1 if pd.isna(t2) else f'{t1}, {t2}' for (t1,t2) in type_freq.index]\r\n",
        "ax.set_yticklabels(yticks)\r\n",
        "ax.invert_yaxis()"
      ],
      "execution_count": 77,
      "outputs": [
        {
          "output_type": "display_data",
          "data": {
            "image/png": "[encoded data removed]",
            "text/plain": [
              "<Figure size 432x288 with 1 Axes>"
            ]
          },
          "metadata": {
            "tags": [],
            "needs_background": "light"
          }
        }
      ]
    },
    {
      "cell_type": "code",
      "metadata": {
        "id": "kPIwTGm5twvW",
        "outputId": "244bfecb-7567-4845-fae2-75cbb34bae4c"
      },
      "source": [
        "# Top 50 pokemon Type frequency\n",
        "type_freq = top50.groupby(by=['Type 1', 'Type 2'], dropna=False)['Name'].count().rename('count').reset_index()\n",
        "type_freq = type_freq.sort_values(by='count', ascending=False).reset_index(drop=True)\n",
        "type_freq.head()"
      ],
      "execution_count": null,
      "outputs": [
        {
          "output_type": "execute_result",
          "data": {
            "text/html": [
              "<div>\n",
              "<style scoped>\n",
              "    .dataframe tbody tr th:only-of-type {\n",
              "        vertical-align: middle;\n",
              "    }\n",
              "\n",
              "    .dataframe tbody tr th {\n",
              "        vertical-align: top;\n",
              "    }\n",
              "\n",
              "    .dataframe thead th {\n",
              "        text-align: right;\n",
              "    }\n",
              "</style>\n",
              "<table border=\"1\" class=\"dataframe\">\n",
              "  <thead>\n",
              "    <tr style=\"text-align: right;\">\n",
              "      <th></th>\n",
              "      <th>Type 1</th>\n",
              "      <th>Type 2</th>\n",
              "      <th>count</th>\n",
              "    </tr>\n",
              "  </thead>\n",
              "  <tbody>\n",
              "    <tr>\n",
              "      <th>0</th>\n",
              "      <td>Normal</td>\n",
              "      <td>NaN</td>\n",
              "      <td>5</td>\n",
              "    </tr>\n",
              "    <tr>\n",
              "      <th>1</th>\n",
              "      <td>Electric</td>\n",
              "      <td>NaN</td>\n",
              "      <td>5</td>\n",
              "    </tr>\n",
              "    <tr>\n",
              "      <th>2</th>\n",
              "      <td>Psychic</td>\n",
              "      <td>NaN</td>\n",
              "      <td>5</td>\n",
              "    </tr>\n",
              "    <tr>\n",
              "      <th>3</th>\n",
              "      <td>Dark</td>\n",
              "      <td>NaN</td>\n",
              "      <td>3</td>\n",
              "    </tr>\n",
              "    <tr>\n",
              "      <th>4</th>\n",
              "      <td>Water</td>\n",
              "      <td>NaN</td>\n",
              "      <td>2</td>\n",
              "    </tr>\n",
              "  </tbody>\n",
              "</table>\n",
              "</div>"
            ],
            "text/plain": [
              "     Type 1 Type 2  count\n",
              "0    Normal    NaN      5\n",
              "1  Electric    NaN      5\n",
              "2   Psychic    NaN      5\n",
              "3      Dark    NaN      3\n",
              "4     Water    NaN      2"
            ]
          },
          "metadata": {
            "tags": []
          },
          "execution_count": 358
        }
      ]
    },
    {
      "cell_type": "code",
      "metadata": {
        "id": "9o0y5W6jtwvW",
        "outputId": "2f85cb10-bc56-4068-bab6-d74ad3fb4838"
      },
      "source": [
        "# Bottom 50 pokemon Type frequency\n",
        "type_freq = bot50.groupby(by=['Type 1', 'Type 2'], dropna=False)['Name'].count().rename('count').reset_index()\n",
        "type_freq = type_freq.sort_values(by='count', ascending=False).reset_index(drop=True)\n",
        "type_freq.head()"
      ],
      "execution_count": null,
      "outputs": [
        {
          "output_type": "execute_result",
          "data": {
            "text/html": [
              "<div>\n",
              "<style scoped>\n",
              "    .dataframe tbody tr th:only-of-type {\n",
              "        vertical-align: middle;\n",
              "    }\n",
              "\n",
              "    .dataframe tbody tr th {\n",
              "        vertical-align: top;\n",
              "    }\n",
              "\n",
              "    .dataframe thead th {\n",
              "        text-align: right;\n",
              "    }\n",
              "</style>\n",
              "<table border=\"1\" class=\"dataframe\">\n",
              "  <thead>\n",
              "    <tr style=\"text-align: right;\">\n",
              "      <th></th>\n",
              "      <th>Type 1</th>\n",
              "      <th>Type 2</th>\n",
              "      <th>count</th>\n",
              "    </tr>\n",
              "  </thead>\n",
              "  <tbody>\n",
              "    <tr>\n",
              "      <th>0</th>\n",
              "      <td>Bug</td>\n",
              "      <td>NaN</td>\n",
              "      <td>8</td>\n",
              "    </tr>\n",
              "    <tr>\n",
              "      <th>1</th>\n",
              "      <td>Psychic</td>\n",
              "      <td>NaN</td>\n",
              "      <td>7</td>\n",
              "    </tr>\n",
              "    <tr>\n",
              "      <th>2</th>\n",
              "      <td>Grass</td>\n",
              "      <td>NaN</td>\n",
              "      <td>4</td>\n",
              "    </tr>\n",
              "    <tr>\n",
              "      <th>3</th>\n",
              "      <td>Normal</td>\n",
              "      <td>NaN</td>\n",
              "      <td>4</td>\n",
              "    </tr>\n",
              "    <tr>\n",
              "      <th>4</th>\n",
              "      <td>Normal</td>\n",
              "      <td>Fairy</td>\n",
              "      <td>3</td>\n",
              "    </tr>\n",
              "  </tbody>\n",
              "</table>\n",
              "</div>"
            ],
            "text/plain": [
              "    Type 1 Type 2  count\n",
              "0      Bug    NaN      8\n",
              "1  Psychic    NaN      7\n",
              "2    Grass    NaN      4\n",
              "3   Normal    NaN      4\n",
              "4   Normal  Fairy      3"
            ]
          },
          "metadata": {
            "tags": []
          },
          "execution_count": 359
        }
      ]
    },
    {
      "cell_type": "code",
      "metadata": {
        "id": "p23F2PVFtwvW",
        "outputId": "873345d4-b482-40aa-a497-55c789a9705d"
      },
      "source": [
        "# Split data by generation\n",
        "gen = {g:df for g, df in pokemon.groupby(by='Generation')}\n",
        "gen[1].head()"
      ],
      "execution_count": null,
      "outputs": [
        {
          "output_type": "execute_result",
          "data": {
            "text/html": [
              "<div>\n",
              "<style scoped>\n",
              "    .dataframe tbody tr th:only-of-type {\n",
              "        vertical-align: middle;\n",
              "    }\n",
              "\n",
              "    .dataframe tbody tr th {\n",
              "        vertical-align: top;\n",
              "    }\n",
              "\n",
              "    .dataframe thead th {\n",
              "        text-align: right;\n",
              "    }\n",
              "</style>\n",
              "<table border=\"1\" class=\"dataframe\">\n",
              "  <thead>\n",
              "    <tr style=\"text-align: right;\">\n",
              "      <th></th>\n",
              "      <th>#</th>\n",
              "      <th>Name</th>\n",
              "      <th>Type 1</th>\n",
              "      <th>Type 2</th>\n",
              "      <th>HP</th>\n",
              "      <th>Attack</th>\n",
              "      <th>Defense</th>\n",
              "      <th>Sp. Atk</th>\n",
              "      <th>Sp. Def</th>\n",
              "      <th>Speed</th>\n",
              "      <th>Generation</th>\n",
              "      <th>Legendary</th>\n",
              "      <th>Wins</th>\n",
              "      <th>Loss</th>\n",
              "      <th>win_loss</th>\n",
              "      <th>win_pct</th>\n",
              "    </tr>\n",
              "  </thead>\n",
              "  <tbody>\n",
              "    <tr>\n",
              "      <th>0</th>\n",
              "      <td>1</td>\n",
              "      <td>Bulbasaur</td>\n",
              "      <td>Grass</td>\n",
              "      <td>Poison</td>\n",
              "      <td>45</td>\n",
              "      <td>49</td>\n",
              "      <td>49</td>\n",
              "      <td>65</td>\n",
              "      <td>65</td>\n",
              "      <td>45</td>\n",
              "      <td>1</td>\n",
              "      <td>False</td>\n",
              "      <td>37.0</td>\n",
              "      <td>96.0</td>\n",
              "      <td>0.278195</td>\n",
              "      <td>27.8</td>\n",
              "    </tr>\n",
              "    <tr>\n",
              "      <th>1</th>\n",
              "      <td>2</td>\n",
              "      <td>Ivysaur</td>\n",
              "      <td>Grass</td>\n",
              "      <td>Poison</td>\n",
              "      <td>60</td>\n",
              "      <td>62</td>\n",
              "      <td>63</td>\n",
              "      <td>80</td>\n",
              "      <td>80</td>\n",
              "      <td>60</td>\n",
              "      <td>1</td>\n",
              "      <td>False</td>\n",
              "      <td>46.0</td>\n",
              "      <td>75.0</td>\n",
              "      <td>0.380165</td>\n",
              "      <td>38.0</td>\n",
              "    </tr>\n",
              "    <tr>\n",
              "      <th>2</th>\n",
              "      <td>3</td>\n",
              "      <td>Venusaur</td>\n",
              "      <td>Grass</td>\n",
              "      <td>Poison</td>\n",
              "      <td>80</td>\n",
              "      <td>82</td>\n",
              "      <td>83</td>\n",
              "      <td>100</td>\n",
              "      <td>100</td>\n",
              "      <td>80</td>\n",
              "      <td>1</td>\n",
              "      <td>False</td>\n",
              "      <td>89.0</td>\n",
              "      <td>43.0</td>\n",
              "      <td>0.674242</td>\n",
              "      <td>67.4</td>\n",
              "    </tr>\n",
              "    <tr>\n",
              "      <th>4</th>\n",
              "      <td>5</td>\n",
              "      <td>Charmander</td>\n",
              "      <td>Fire</td>\n",
              "      <td>NaN</td>\n",
              "      <td>39</td>\n",
              "      <td>52</td>\n",
              "      <td>43</td>\n",
              "      <td>60</td>\n",
              "      <td>50</td>\n",
              "      <td>65</td>\n",
              "      <td>1</td>\n",
              "      <td>False</td>\n",
              "      <td>55.0</td>\n",
              "      <td>57.0</td>\n",
              "      <td>0.491071</td>\n",
              "      <td>49.1</td>\n",
              "    </tr>\n",
              "    <tr>\n",
              "      <th>5</th>\n",
              "      <td>6</td>\n",
              "      <td>Charmeleon</td>\n",
              "      <td>Fire</td>\n",
              "      <td>NaN</td>\n",
              "      <td>58</td>\n",
              "      <td>64</td>\n",
              "      <td>58</td>\n",
              "      <td>80</td>\n",
              "      <td>65</td>\n",
              "      <td>80</td>\n",
              "      <td>1</td>\n",
              "      <td>False</td>\n",
              "      <td>64.0</td>\n",
              "      <td>54.0</td>\n",
              "      <td>0.542373</td>\n",
              "      <td>54.2</td>\n",
              "    </tr>\n",
              "  </tbody>\n",
              "</table>\n",
              "</div>"
            ],
            "text/plain": [
              "   #        Name Type 1  Type 2  HP  Attack  Defense  Sp. Atk  Sp. Def  Speed  \\\n",
              "0  1   Bulbasaur  Grass  Poison  45      49       49       65       65     45   \n",
              "1  2     Ivysaur  Grass  Poison  60      62       63       80       80     60   \n",
              "2  3    Venusaur  Grass  Poison  80      82       83      100      100     80   \n",
              "4  5  Charmander   Fire     NaN  39      52       43       60       50     65   \n",
              "5  6  Charmeleon   Fire     NaN  58      64       58       80       65     80   \n",
              "\n",
              "   Generation  Legendary  Wins  Loss  win_loss  win_pct  \n",
              "0           1      False  37.0  96.0  0.278195     27.8  \n",
              "1           1      False  46.0  75.0  0.380165     38.0  \n",
              "2           1      False  89.0  43.0  0.674242     67.4  \n",
              "4           1      False  55.0  57.0  0.491071     49.1  \n",
              "5           1      False  64.0  54.0  0.542373     54.2  "
            ]
          },
          "metadata": {
            "tags": []
          },
          "execution_count": 360
        }
      ]
    },
    {
      "cell_type": "markdown",
      "metadata": {
        "id": "dsyq2otRtwvW"
      },
      "source": [
        "#### **Data Visualization**"
      ]
    },
    {
      "cell_type": "markdown",
      "metadata": {
        "id": "ugl48TLItwvX"
      },
      "source": [
        "#### **Analysis**"
      ]
    }
  ]
}